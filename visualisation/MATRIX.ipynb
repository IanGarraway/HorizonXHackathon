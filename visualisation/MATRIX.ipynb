{
 "cells": [
  {
   "cell_type": "code",
   "execution_count": 2,
   "metadata": {},
   "outputs": [
    {
     "data": {
      "application/vnd.plotly.v1+json": {
       "config": {
        "plotlyServerURL": "https://plot.ly"
       },
       "data": [
        {
         "hovertemplate": "Business Readiness=%{x}<br>Perceived Business Value=%{y}<extra></extra>",
         "legendgroup": "",
         "marker": {
          "color": "#636efa",
          "line": {
           "color": "DarkSlateGrey",
           "width": 2
          },
          "size": 12,
          "symbol": "circle"
         },
         "mode": "markers",
         "name": "",
         "orientation": "v",
         "showlegend": false,
         "type": "scatter",
         "x": [
          7.5,
          6.25,
          7,
          6.75,
          6.75,
          7.25,
          6.5,
          6.75
         ],
         "xaxis": "x",
         "y": [
          9.33,
          7,
          7.5,
          7,
          8,
          8.33,
          6.67,
          8.67
         ],
         "yaxis": "y"
        }
       ],
       "layout": {
        "annotations": [
         {
          "font": {
           "size": 14
          },
          "showarrow": false,
          "text": "Research Innovators",
          "x": 6.3125,
          "y": 9.73
         },
         {
          "font": {
           "size": 14
          },
          "showarrow": false,
          "text": "Market Leaders",
          "x": 7.4375,
          "y": 9.73
         },
         {
          "font": {
           "size": 14
          },
          "showarrow": false,
          "text": "Emerging Players",
          "x": 6.3125,
          "y": 6.27
         },
         {
          "font": {
           "size": 14
          },
          "showarrow": false,
          "text": "Specialized Solutions",
          "x": 7.4375,
          "y": 6.27
         },
         {
          "font": {
           "size": 12
          },
          "showarrow": false,
          "text": "ChatGPT-4",
          "x": 7.5,
          "y": 9.33,
          "yshift": 15
         },
         {
          "font": {
           "size": 12
          },
          "showarrow": false,
          "text": "LLaMA 3",
          "x": 6.25,
          "y": 7,
          "yshift": 15
         },
         {
          "font": {
           "size": 12
          },
          "showarrow": false,
          "text": "MedPaLM",
          "x": 7,
          "y": 7.5,
          "yshift": 15
         },
         {
          "font": {
           "size": 12
          },
          "showarrow": false,
          "text": "BioGPT",
          "x": 6.75,
          "y": 7,
          "yshift": 15
         },
         {
          "font": {
           "size": 12
          },
          "showarrow": false,
          "text": "BloombergGPT",
          "x": 6.75,
          "y": 8,
          "yshift": 15
         },
         {
          "font": {
           "size": 12
          },
          "showarrow": false,
          "text": "Gemini 1.5",
          "x": 7.25,
          "y": 8.33,
          "yshift": 15
         },
         {
          "font": {
           "size": 12
          },
          "showarrow": false,
          "text": "Mistral 7B",
          "x": 6.5,
          "y": 6.67,
          "yshift": 15
         },
         {
          "font": {
           "size": 12
          },
          "showarrow": false,
          "text": "T5",
          "x": 6.75,
          "y": 8.67,
          "yshift": 15
         },
         {
          "arrowcolor": "black",
          "arrowhead": 2,
          "arrowsize": 1,
          "arrowwidth": 2,
          "ax": 5.75,
          "axref": "x",
          "ay": 6.17,
          "ayref": "y",
          "showarrow": true,
          "x": 8,
          "xref": "x",
          "y": 6.17,
          "yref": "y"
         },
         {
          "arrowcolor": "black",
          "arrowhead": 2,
          "arrowsize": 1,
          "arrowwidth": 2,
          "ax": 5.75,
          "axref": "x",
          "ay": 6.17,
          "ayref": "y",
          "showarrow": true,
          "x": 5.75,
          "xref": "x",
          "y": 9.83,
          "yref": "y"
         }
        ],
        "legend": {
         "tracegroupgap": 0
        },
        "margin": {
         "b": 50,
         "l": 50,
         "r": 50,
         "t": 100
        },
        "plot_bgcolor": "rgba(0,0,0,0)",
        "shapes": [
         {
          "line": {
           "color": "Black",
           "dash": "dash",
           "width": 2
          },
          "type": "line",
          "x0": 6.875,
          "x1": 6.875,
          "y0": 6.17,
          "y1": 9.83
         },
         {
          "line": {
           "color": "Black",
           "dash": "dash",
           "width": 2
          },
          "type": "line",
          "x0": 5.75,
          "x1": 8,
          "y0": 8,
          "y1": 8
         },
         {
          "fillcolor": "rgba(135, 206, 250, 0.3)",
          "line": {
           "width": 0
          },
          "opacity": 0.3,
          "type": "rect",
          "x0": 5.75,
          "x1": 6.875,
          "y0": 8,
          "y1": 9.83
         },
         {
          "fillcolor": "rgba(144, 238, 144, 0.3)",
          "line": {
           "width": 0
          },
          "opacity": 0.3,
          "type": "rect",
          "x0": 6.875,
          "x1": 8,
          "y0": 8,
          "y1": 9.83
         },
         {
          "fillcolor": "rgba(255, 255, 102, 0.3)",
          "line": {
           "width": 0
          },
          "opacity": 0.3,
          "type": "rect",
          "x0": 5.75,
          "x1": 6.875,
          "y0": 6.17,
          "y1": 8
         },
         {
          "fillcolor": "rgba(221, 160, 221, 0.3)",
          "line": {
           "width": 0
          },
          "opacity": 0.3,
          "type": "rect",
          "x0": 6.875,
          "x1": 8,
          "y0": 6.17,
          "y1": 8
         }
        ],
        "template": {
         "data": {
          "bar": [
           {
            "error_x": {
             "color": "#2a3f5f"
            },
            "error_y": {
             "color": "#2a3f5f"
            },
            "marker": {
             "line": {
              "color": "#E5ECF6",
              "width": 0.5
             },
             "pattern": {
              "fillmode": "overlay",
              "size": 10,
              "solidity": 0.2
             }
            },
            "type": "bar"
           }
          ],
          "barpolar": [
           {
            "marker": {
             "line": {
              "color": "#E5ECF6",
              "width": 0.5
             },
             "pattern": {
              "fillmode": "overlay",
              "size": 10,
              "solidity": 0.2
             }
            },
            "type": "barpolar"
           }
          ],
          "carpet": [
           {
            "aaxis": {
             "endlinecolor": "#2a3f5f",
             "gridcolor": "white",
             "linecolor": "white",
             "minorgridcolor": "white",
             "startlinecolor": "#2a3f5f"
            },
            "baxis": {
             "endlinecolor": "#2a3f5f",
             "gridcolor": "white",
             "linecolor": "white",
             "minorgridcolor": "white",
             "startlinecolor": "#2a3f5f"
            },
            "type": "carpet"
           }
          ],
          "choropleth": [
           {
            "colorbar": {
             "outlinewidth": 0,
             "ticks": ""
            },
            "type": "choropleth"
           }
          ],
          "contour": [
           {
            "colorbar": {
             "outlinewidth": 0,
             "ticks": ""
            },
            "colorscale": [
             [
              0,
              "#0d0887"
             ],
             [
              0.1111111111111111,
              "#46039f"
             ],
             [
              0.2222222222222222,
              "#7201a8"
             ],
             [
              0.3333333333333333,
              "#9c179e"
             ],
             [
              0.4444444444444444,
              "#bd3786"
             ],
             [
              0.5555555555555556,
              "#d8576b"
             ],
             [
              0.6666666666666666,
              "#ed7953"
             ],
             [
              0.7777777777777778,
              "#fb9f3a"
             ],
             [
              0.8888888888888888,
              "#fdca26"
             ],
             [
              1,
              "#f0f921"
             ]
            ],
            "type": "contour"
           }
          ],
          "contourcarpet": [
           {
            "colorbar": {
             "outlinewidth": 0,
             "ticks": ""
            },
            "type": "contourcarpet"
           }
          ],
          "heatmap": [
           {
            "colorbar": {
             "outlinewidth": 0,
             "ticks": ""
            },
            "colorscale": [
             [
              0,
              "#0d0887"
             ],
             [
              0.1111111111111111,
              "#46039f"
             ],
             [
              0.2222222222222222,
              "#7201a8"
             ],
             [
              0.3333333333333333,
              "#9c179e"
             ],
             [
              0.4444444444444444,
              "#bd3786"
             ],
             [
              0.5555555555555556,
              "#d8576b"
             ],
             [
              0.6666666666666666,
              "#ed7953"
             ],
             [
              0.7777777777777778,
              "#fb9f3a"
             ],
             [
              0.8888888888888888,
              "#fdca26"
             ],
             [
              1,
              "#f0f921"
             ]
            ],
            "type": "heatmap"
           }
          ],
          "heatmapgl": [
           {
            "colorbar": {
             "outlinewidth": 0,
             "ticks": ""
            },
            "colorscale": [
             [
              0,
              "#0d0887"
             ],
             [
              0.1111111111111111,
              "#46039f"
             ],
             [
              0.2222222222222222,
              "#7201a8"
             ],
             [
              0.3333333333333333,
              "#9c179e"
             ],
             [
              0.4444444444444444,
              "#bd3786"
             ],
             [
              0.5555555555555556,
              "#d8576b"
             ],
             [
              0.6666666666666666,
              "#ed7953"
             ],
             [
              0.7777777777777778,
              "#fb9f3a"
             ],
             [
              0.8888888888888888,
              "#fdca26"
             ],
             [
              1,
              "#f0f921"
             ]
            ],
            "type": "heatmapgl"
           }
          ],
          "histogram": [
           {
            "marker": {
             "pattern": {
              "fillmode": "overlay",
              "size": 10,
              "solidity": 0.2
             }
            },
            "type": "histogram"
           }
          ],
          "histogram2d": [
           {
            "colorbar": {
             "outlinewidth": 0,
             "ticks": ""
            },
            "colorscale": [
             [
              0,
              "#0d0887"
             ],
             [
              0.1111111111111111,
              "#46039f"
             ],
             [
              0.2222222222222222,
              "#7201a8"
             ],
             [
              0.3333333333333333,
              "#9c179e"
             ],
             [
              0.4444444444444444,
              "#bd3786"
             ],
             [
              0.5555555555555556,
              "#d8576b"
             ],
             [
              0.6666666666666666,
              "#ed7953"
             ],
             [
              0.7777777777777778,
              "#fb9f3a"
             ],
             [
              0.8888888888888888,
              "#fdca26"
             ],
             [
              1,
              "#f0f921"
             ]
            ],
            "type": "histogram2d"
           }
          ],
          "histogram2dcontour": [
           {
            "colorbar": {
             "outlinewidth": 0,
             "ticks": ""
            },
            "colorscale": [
             [
              0,
              "#0d0887"
             ],
             [
              0.1111111111111111,
              "#46039f"
             ],
             [
              0.2222222222222222,
              "#7201a8"
             ],
             [
              0.3333333333333333,
              "#9c179e"
             ],
             [
              0.4444444444444444,
              "#bd3786"
             ],
             [
              0.5555555555555556,
              "#d8576b"
             ],
             [
              0.6666666666666666,
              "#ed7953"
             ],
             [
              0.7777777777777778,
              "#fb9f3a"
             ],
             [
              0.8888888888888888,
              "#fdca26"
             ],
             [
              1,
              "#f0f921"
             ]
            ],
            "type": "histogram2dcontour"
           }
          ],
          "mesh3d": [
           {
            "colorbar": {
             "outlinewidth": 0,
             "ticks": ""
            },
            "type": "mesh3d"
           }
          ],
          "parcoords": [
           {
            "line": {
             "colorbar": {
              "outlinewidth": 0,
              "ticks": ""
             }
            },
            "type": "parcoords"
           }
          ],
          "pie": [
           {
            "automargin": true,
            "type": "pie"
           }
          ],
          "scatter": [
           {
            "fillpattern": {
             "fillmode": "overlay",
             "size": 10,
             "solidity": 0.2
            },
            "type": "scatter"
           }
          ],
          "scatter3d": [
           {
            "line": {
             "colorbar": {
              "outlinewidth": 0,
              "ticks": ""
             }
            },
            "marker": {
             "colorbar": {
              "outlinewidth": 0,
              "ticks": ""
             }
            },
            "type": "scatter3d"
           }
          ],
          "scattercarpet": [
           {
            "marker": {
             "colorbar": {
              "outlinewidth": 0,
              "ticks": ""
             }
            },
            "type": "scattercarpet"
           }
          ],
          "scattergeo": [
           {
            "marker": {
             "colorbar": {
              "outlinewidth": 0,
              "ticks": ""
             }
            },
            "type": "scattergeo"
           }
          ],
          "scattergl": [
           {
            "marker": {
             "colorbar": {
              "outlinewidth": 0,
              "ticks": ""
             }
            },
            "type": "scattergl"
           }
          ],
          "scattermapbox": [
           {
            "marker": {
             "colorbar": {
              "outlinewidth": 0,
              "ticks": ""
             }
            },
            "type": "scattermapbox"
           }
          ],
          "scatterpolar": [
           {
            "marker": {
             "colorbar": {
              "outlinewidth": 0,
              "ticks": ""
             }
            },
            "type": "scatterpolar"
           }
          ],
          "scatterpolargl": [
           {
            "marker": {
             "colorbar": {
              "outlinewidth": 0,
              "ticks": ""
             }
            },
            "type": "scatterpolargl"
           }
          ],
          "scatterternary": [
           {
            "marker": {
             "colorbar": {
              "outlinewidth": 0,
              "ticks": ""
             }
            },
            "type": "scatterternary"
           }
          ],
          "surface": [
           {
            "colorbar": {
             "outlinewidth": 0,
             "ticks": ""
            },
            "colorscale": [
             [
              0,
              "#0d0887"
             ],
             [
              0.1111111111111111,
              "#46039f"
             ],
             [
              0.2222222222222222,
              "#7201a8"
             ],
             [
              0.3333333333333333,
              "#9c179e"
             ],
             [
              0.4444444444444444,
              "#bd3786"
             ],
             [
              0.5555555555555556,
              "#d8576b"
             ],
             [
              0.6666666666666666,
              "#ed7953"
             ],
             [
              0.7777777777777778,
              "#fb9f3a"
             ],
             [
              0.8888888888888888,
              "#fdca26"
             ],
             [
              1,
              "#f0f921"
             ]
            ],
            "type": "surface"
           }
          ],
          "table": [
           {
            "cells": {
             "fill": {
              "color": "#EBF0F8"
             },
             "line": {
              "color": "white"
             }
            },
            "header": {
             "fill": {
              "color": "#C8D4E3"
             },
             "line": {
              "color": "white"
             }
            },
            "type": "table"
           }
          ]
         },
         "layout": {
          "annotationdefaults": {
           "arrowcolor": "#2a3f5f",
           "arrowhead": 0,
           "arrowwidth": 1
          },
          "autotypenumbers": "strict",
          "coloraxis": {
           "colorbar": {
            "outlinewidth": 0,
            "ticks": ""
           }
          },
          "colorscale": {
           "diverging": [
            [
             0,
             "#8e0152"
            ],
            [
             0.1,
             "#c51b7d"
            ],
            [
             0.2,
             "#de77ae"
            ],
            [
             0.3,
             "#f1b6da"
            ],
            [
             0.4,
             "#fde0ef"
            ],
            [
             0.5,
             "#f7f7f7"
            ],
            [
             0.6,
             "#e6f5d0"
            ],
            [
             0.7,
             "#b8e186"
            ],
            [
             0.8,
             "#7fbc41"
            ],
            [
             0.9,
             "#4d9221"
            ],
            [
             1,
             "#276419"
            ]
           ],
           "sequential": [
            [
             0,
             "#0d0887"
            ],
            [
             0.1111111111111111,
             "#46039f"
            ],
            [
             0.2222222222222222,
             "#7201a8"
            ],
            [
             0.3333333333333333,
             "#9c179e"
            ],
            [
             0.4444444444444444,
             "#bd3786"
            ],
            [
             0.5555555555555556,
             "#d8576b"
            ],
            [
             0.6666666666666666,
             "#ed7953"
            ],
            [
             0.7777777777777778,
             "#fb9f3a"
            ],
            [
             0.8888888888888888,
             "#fdca26"
            ],
            [
             1,
             "#f0f921"
            ]
           ],
           "sequentialminus": [
            [
             0,
             "#0d0887"
            ],
            [
             0.1111111111111111,
             "#46039f"
            ],
            [
             0.2222222222222222,
             "#7201a8"
            ],
            [
             0.3333333333333333,
             "#9c179e"
            ],
            [
             0.4444444444444444,
             "#bd3786"
            ],
            [
             0.5555555555555556,
             "#d8576b"
            ],
            [
             0.6666666666666666,
             "#ed7953"
            ],
            [
             0.7777777777777778,
             "#fb9f3a"
            ],
            [
             0.8888888888888888,
             "#fdca26"
            ],
            [
             1,
             "#f0f921"
            ]
           ]
          },
          "colorway": [
           "#636efa",
           "#EF553B",
           "#00cc96",
           "#ab63fa",
           "#FFA15A",
           "#19d3f3",
           "#FF6692",
           "#B6E880",
           "#FF97FF",
           "#FECB52"
          ],
          "font": {
           "color": "#2a3f5f"
          },
          "geo": {
           "bgcolor": "white",
           "lakecolor": "white",
           "landcolor": "#E5ECF6",
           "showlakes": true,
           "showland": true,
           "subunitcolor": "white"
          },
          "hoverlabel": {
           "align": "left"
          },
          "hovermode": "closest",
          "mapbox": {
           "style": "light"
          },
          "paper_bgcolor": "white",
          "plot_bgcolor": "#E5ECF6",
          "polar": {
           "angularaxis": {
            "gridcolor": "white",
            "linecolor": "white",
            "ticks": ""
           },
           "bgcolor": "#E5ECF6",
           "radialaxis": {
            "gridcolor": "white",
            "linecolor": "white",
            "ticks": ""
           }
          },
          "scene": {
           "xaxis": {
            "backgroundcolor": "#E5ECF6",
            "gridcolor": "white",
            "gridwidth": 2,
            "linecolor": "white",
            "showbackground": true,
            "ticks": "",
            "zerolinecolor": "white"
           },
           "yaxis": {
            "backgroundcolor": "#E5ECF6",
            "gridcolor": "white",
            "gridwidth": 2,
            "linecolor": "white",
            "showbackground": true,
            "ticks": "",
            "zerolinecolor": "white"
           },
           "zaxis": {
            "backgroundcolor": "#E5ECF6",
            "gridcolor": "white",
            "gridwidth": 2,
            "linecolor": "white",
            "showbackground": true,
            "ticks": "",
            "zerolinecolor": "white"
           }
          },
          "shapedefaults": {
           "line": {
            "color": "#2a3f5f"
           }
          },
          "ternary": {
           "aaxis": {
            "gridcolor": "white",
            "linecolor": "white",
            "ticks": ""
           },
           "baxis": {
            "gridcolor": "white",
            "linecolor": "white",
            "ticks": ""
           },
           "bgcolor": "#E5ECF6",
           "caxis": {
            "gridcolor": "white",
            "linecolor": "white",
            "ticks": ""
           }
          },
          "title": {
           "x": 0.05
          },
          "xaxis": {
           "automargin": true,
           "gridcolor": "white",
           "linecolor": "white",
           "ticks": "",
           "title": {
            "standoff": 15
           },
           "zerolinecolor": "white",
           "zerolinewidth": 2
          },
          "yaxis": {
           "automargin": true,
           "gridcolor": "white",
           "linecolor": "white",
           "ticks": "",
           "title": {
            "standoff": 15
           },
           "zerolinecolor": "white",
           "zerolinewidth": 2
          }
         }
        },
        "title": {
         "font": {
          "size": 22
         },
         "text": "Modello-Pharus Matrix"
        },
        "xaxis": {
         "anchor": "y",
         "domain": [
          0,
          1
         ],
         "range": [
          5.75,
          8
         ],
         "showgrid": false,
         "ticktext": [
          "Low",
          "",
          "High"
         ],
         "tickvals": [
          5.75,
          6.875,
          8
         ],
         "title": {
          "font": {
           "size": 18
          },
          "text": "Business Readiness"
         }
        },
        "yaxis": {
         "anchor": "x",
         "domain": [
          0,
          1
         ],
         "range": [
          6.17,
          9.83
         ],
         "showgrid": false,
         "ticktext": [
          "Low",
          "",
          "High"
         ],
         "tickvals": [
          6.17,
          8,
          9.83
         ],
         "title": {
          "font": {
           "size": 18
          },
          "text": "Perceived Business Value"
         }
        }
       }
      }
     },
     "metadata": {},
     "output_type": "display_data"
    }
   ],
   "source": [
    "import pandas as pd\n",
    "import plotly.express as px\n",
    "import plotly.graph_objects as go\n",
    "\n",
    "# Data for the plot\n",
    "data = {\n",
    "    \"LLM\": [\"ChatGPT-4\", \"LLaMA 3\", \"MedPaLM\", \"BioGPT\", \"BloombergGPT\", \"Gemini 1.5\", \"Mistral 7B\", \"T5\"],\n",
    "    \"Business Readiness\": [7.5, 6.25, 7, 6.75, 6.75, 7.25, 6.5, 6.75],\n",
    "    \"Perceived Business Value\": [9.33, 7, 7.5, 7, 8, 8.33, 6.67, 8.67]\n",
    "}\n",
    "\n",
    "# Creating a DataFrame\n",
    "df = pd.DataFrame(data)\n",
    "\n",
    "# Define axis ranges with a small padding\n",
    "x_min = min(df['Business Readiness']) - 0.5\n",
    "x_max = max(df['Business Readiness']) + 0.5\n",
    "y_min = min(df['Perceived Business Value']) - 0.5\n",
    "y_max = max(df['Perceived Business Value']) + 0.5\n",
    "\n",
    "# Create the scatter plot without default text annotations\n",
    "fig = px.scatter(df, x='Business Readiness', y='Perceived Business Value',\n",
    "                 title='Modello-Pharus Matrix',\n",
    "                 labels={'Business Readiness': 'Business Readiness', 'Perceived Business Value': 'Perceived Business Value'})\n",
    "\n",
    "# Update layout to show text on hover and adjust marker size and color\n",
    "fig.update_traces(marker=dict(size=12, line=dict(width=2, color='DarkSlateGrey')))\n",
    "\n",
    "# Add quadrants centered at the mean of the data\n",
    "fig.add_shape(type=\"line\",\n",
    "              x0=(x_min + x_max) / 2, y0=y_min, x1=(x_min + x_max) / 2, y1=y_max,\n",
    "              line=dict(color=\"Black\", width=2, dash=\"dash\"))\n",
    "fig.add_shape(type=\"line\",\n",
    "              x0=x_min, y0=(y_min + y_max) / 2, x1=x_max, y1=(y_min + y_max) / 2,\n",
    "              line=dict(color=\"Black\", width=2, dash=\"dash\"))\n",
    "\n",
    "# Add background colors for quadrants with less opacity\n",
    "fig.add_shape(type=\"rect\",\n",
    "              x0=x_min, y0=(y_min + y_max) / 2, x1=(x_min + x_max) / 2, y1=y_max,\n",
    "              fillcolor=\"rgba(135, 206, 250, 0.3)\", opacity=0.3, line_width=0)  # Light Sky Blue\n",
    "fig.add_shape(type=\"rect\",\n",
    "              x0=(x_min + x_max) / 2, y0=(y_min + y_max) / 2, x1=x_max, y1=y_max,\n",
    "              fillcolor=\"rgba(144, 238, 144, 0.3)\", opacity=0.3, line_width=0)  # Light Green\n",
    "fig.add_shape(type=\"rect\",\n",
    "              x0=x_min, y0=y_min, x1=(x_min + x_max) / 2, y1=(y_min + y_max) / 2,\n",
    "              fillcolor=\"rgba(255, 255, 102, 0.3)\", opacity=0.3, line_width=0)  # Light Yellow\n",
    "fig.add_shape(type=\"rect\",\n",
    "              x0=(x_min + x_max) / 2, y0=y_min, x1=x_max, y1=(y_min + y_max) / 2,\n",
    "              fillcolor=\"rgba(221, 160, 221, 0.3)\", opacity=0.3, line_width=0)  # Plum\n",
    "\n",
    "# Add quadrant titles\n",
    "fig.add_annotation(x=(x_min + (x_max - x_min) / 4), y=y_max - 0.1, text=\"Research Innovators\", showarrow=False, font=dict(size=14))\n",
    "fig.add_annotation(x=(x_min + 3 * (x_max - x_min) / 4), y=y_max - 0.1, text=\"Market Leaders\", showarrow=False, font=dict(size=14))\n",
    "fig.add_annotation(x=(x_min + (x_max - x_min) / 4), y=y_min + 0.1, text=\"Emerging Players\", showarrow=False, font=dict(size=14))\n",
    "fig.add_annotation(x=(x_min + 3 * (x_max - x_min) / 4), y=y_min + 0.1, text=\"Specialized Solutions\", showarrow=False, font=dict(size=14))\n",
    "\n",
    "# Customize the tick labels\n",
    "fig.update_xaxes(\n",
    "    tickvals=[x_min, (x_min + x_max) / 2, x_max],\n",
    "    ticktext=[\"Low\", \"\", \"High\"],\n",
    "    range=[x_min, x_max],\n",
    "    showgrid=False,  # Remove grid lines\n",
    "    title_text=\"Business Readiness\",\n",
    "    title_font=dict(size=18)  # Increase axis label size\n",
    ")\n",
    "fig.update_yaxes(\n",
    "    tickvals=[y_min, (y_min + y_max) / 2, y_max],\n",
    "    ticktext=[\"Low\", \"\", \"High\"],\n",
    "    range=[y_min, y_max],\n",
    "    showgrid=False,  # Remove grid lines\n",
    "    title_text=\"Perceived Business Value\",\n",
    "    title_font=dict(size=18)  # Increase axis label size\n",
    ")\n",
    "\n",
    "# Add custom text annotations for each point\n",
    "for i, row in df.iterrows():\n",
    "    fig.add_annotation(x=row[\"Business Readiness\"], y=row[\"Perceived Business Value\"],\n",
    "                       text=row[\"LLM\"], showarrow=False, font=dict(size=12), yshift=15)  # Adjust yshift for better readability\n",
    "\n",
    "# Add arrows for x and y axes\n",
    "fig.add_annotation(\n",
    "    x=x_max, y=y_min, ax=x_min, ay=y_min,\n",
    "    xref='x', yref='y',\n",
    "    axref='x', ayref='y',\n",
    "    showarrow=True,\n",
    "    arrowhead=2,\n",
    "    arrowsize=1,\n",
    "    arrowwidth=2,\n",
    "    arrowcolor='black'\n",
    ")\n",
    "\n",
    "fig.add_annotation(\n",
    "    x=x_min, y=y_max, ax=x_min, ay=y_min,\n",
    "    xref='x', yref='y',\n",
    "    axref='x', ayref='y',\n",
    "    showarrow=True,\n",
    "    arrowhead=2,\n",
    "    arrowsize=1,\n",
    "    arrowwidth=2,\n",
    "    arrowcolor='black'\n",
    ")\n",
    "\n",
    "# Update layout\n",
    "fig.update_layout(\n",
    "    title_font=dict(size=22),  # Make title bigger\n",
    "    margin=dict(l=50, r=50, t=100, b=50),  # Increase top margin for more whitespace\n",
    "    plot_bgcolor='rgba(0,0,0,0)'  # Transparent background\n",
    ")\n",
    "\n",
    "# Save the plot as an HTML file\n",
    "fig.write_html(\"modello_pharus_matrix.html\")\n",
    "\n",
    "# Show the plot\n",
    "fig.show()\n"
   ]
  }
 ],
 "metadata": {
  "kernelspec": {
   "display_name": "base",
   "language": "python",
   "name": "python3"
  },
  "language_info": {
   "codemirror_mode": {
    "name": "ipython",
    "version": 3
   },
   "file_extension": ".py",
   "mimetype": "text/x-python",
   "name": "python",
   "nbconvert_exporter": "python",
   "pygments_lexer": "ipython3",
   "version": "3.11.7"
  }
 },
 "nbformat": 4,
 "nbformat_minor": 2
}
